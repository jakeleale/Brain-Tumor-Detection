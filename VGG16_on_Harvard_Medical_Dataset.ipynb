{
  "nbformat": 4,
  "nbformat_minor": 0,
  "metadata": {
    "colab": {
      "name": "VGG16 on Harvard Medical Dataset",
      "provenance": [],
      "collapsed_sections": []
    },
    "kernelspec": {
      "name": "python3",
      "display_name": "Python 3"
    },
    "accelerator": "GPU"
  },
  "cells": [
    {
      "cell_type": "markdown",
      "metadata": {
        "id": "view-in-github"
      },
      "source": [
        "<a href=\"https://colab.research.google.com/github/bappy15010/Brain-Tumor-Detection/blob/master/Final_Model_3.ipynb\" target=\"_parent\"><img src=\"https://colab.research.google.com/assets/colab-badge.svg\" alt=\"Open In Colab\"/></a>"
      ]
    },
    {
      "cell_type": "code",
      "metadata": {
        "id": "SF4KsM1fbIwy",
        "colab": {
          "base_uri": "https://localhost:8080/",
          "height": 128
        },
        "outputId": "bbeecb38-6450-403c-d61d-744ac3f930c0"
      },
      "source": [
        "from google.colab import drive\n",
        "drive.mount('/gdrive') "
      ],
      "execution_count": null,
      "outputs": [
        {
          "output_type": "stream",
          "text": [
            "Go to this URL in a browser: https://accounts.google.com/o/oauth2/auth?client_id=947318989803-6bn6qk8qdgf4n4g3pfee6491hc0brc4i.apps.googleusercontent.com&redirect_uri=urn%3aietf%3awg%3aoauth%3a2.0%3aoob&scope=email%20https%3a%2f%2fwww.googleapis.com%2fauth%2fdocs.test%20https%3a%2f%2fwww.googleapis.com%2fauth%2fdrive%20https%3a%2f%2fwww.googleapis.com%2fauth%2fdrive.photos.readonly%20https%3a%2f%2fwww.googleapis.com%2fauth%2fpeopleapi.readonly&response_type=code\n",
            "\n",
            "Enter your authorization code:\n",
            "··········\n",
            "Mounted at /gdrive\n"
          ],
          "name": "stdout"
        }
      ]
    },
    {
      "cell_type": "code",
      "metadata": {
        "id": "g94IRopmgfN3",
        "colab": {
          "base_uri": "https://localhost:8080/",
          "height": 35
        },
        "outputId": "e5798fa6-62a3-4648-b078-fc1f2451a53d"
      },
      "source": [
        "import tensorflow as tf\n",
        "tf.test.gpu_device_name()"
      ],
      "execution_count": null,
      "outputs": [
        {
          "output_type": "execute_result",
          "data": {
            "application/vnd.google.colaboratory.intrinsic+json": {
              "type": "string"
            },
            "text/plain": [
              "'/device:GPU:0'"
            ]
          },
          "metadata": {
            "tags": []
          },
          "execution_count": 24
        }
      ]
    },
    {
      "cell_type": "code",
      "metadata": {
        "id": "SseZLG4kcVf6"
      },
      "source": [
        "import numpy as np \n",
        "import pandas as pd \n",
        "import os\n",
        "import tensorflow as tf\n",
        "import keras\n",
        "import matplotlib.pyplot as plt\n",
        "from tensorflow.keras.layers import Dense, GlobalAveragePooling2D,Dropout,BatchNormalization\n",
        "from tensorflow.keras.applications.vgg16 import VGG16\n",
        "from tensorflow.keras.applications.vgg19 import VGG19\n",
        "from tensorflow.keras.preprocessing import image\n",
        "from tensorflow.keras.applications.vgg16 import preprocess_input\n",
        "from tensorflow.keras.preprocessing.image import ImageDataGenerator\n",
        "from tensorflow.keras.models import Model\n",
        "from tensorflow.keras.optimizers import Adam\n",
        "from PIL import Image\n",
        "import warnings\n",
        "warnings.filterwarnings(\"ignore\")\n",
        "\n",
        "from tensorflow.keras.applications.inception_v3 import InceptionV3"
      ],
      "execution_count": null,
      "outputs": []
    },
    {
      "cell_type": "code",
      "metadata": {
        "id": "QpDbdsHnciRf"
      },
      "source": [
        "image_size = [256,256]\n",
        "data_path = '/content/drive/My Drive/Harvard Medical Dataset2'"
      ],
      "execution_count": null,
      "outputs": []
    },
    {
      "cell_type": "code",
      "metadata": {
        "id": "Hm-hdEhkcg5E"
      },
      "source": [
        "conv = VGG16(input_shape= image_size+[3],weights='imagenet',include_top=False)"
      ],
      "execution_count": null,
      "outputs": []
    },
    {
      "cell_type": "code",
      "metadata": {
        "id": "ti_qCPyW4VNR",
        "colab": {
          "base_uri": "https://localhost:8080/",
          "height": 35
        },
        "outputId": "407ce25e-36ba-412d-ed2b-f627ed32b319"
      },
      "source": [
        "conv.output"
      ],
      "execution_count": null,
      "outputs": [
        {
          "output_type": "execute_result",
          "data": {
            "text/plain": [
              "<tf.Tensor 'block5_pool/MaxPool_1:0' shape=(None, 8, 8, 512) dtype=float32>"
            ]
          },
          "metadata": {
            "tags": []
          },
          "execution_count": 28
        }
      ]
    },
    {
      "cell_type": "code",
      "metadata": {
        "id": "Vzw0rgOY5RMj"
      },
      "source": [
        "for layer in conv.layers:\n",
        "    layer.trainable = False"
      ],
      "execution_count": null,
      "outputs": []
    },
    {
      "cell_type": "code",
      "metadata": {
        "id": "wJxKTGNTsTEt"
      },
      "source": [
        "x = conv.output\n",
        "x = GlobalAveragePooling2D()(x)\n",
        "x = Dense(1024,activation='relu')(x)\n",
        "x = Dense(1024,activation='relu')(x)\n",
        "x = Dense(512, activation='relu')(x)\n",
        "x=  Dropout(.2)(x)\n",
        "pred = Dense(2,activation='softmax')(x)\n",
        "model = Model(inputs = conv.input,outputs=pred)"
      ],
      "execution_count": null,
      "outputs": []
    },
    {
      "cell_type": "code",
      "metadata": {
        "id": "BgT6AUhzcsPU",
        "colab": {
          "base_uri": "https://localhost:8080/",
          "height": 1000
        },
        "outputId": "ba74a289-e29b-4171-95aa-ef64ec79f85d"
      },
      "source": [
        "model.summary()"
      ],
      "execution_count": null,
      "outputs": [
        {
          "output_type": "stream",
          "text": [
            "Model: \"functional_3\"\n",
            "_________________________________________________________________\n",
            "Layer (type)                 Output Shape              Param #   \n",
            "=================================================================\n",
            "input_2 (InputLayer)         [(None, 256, 256, 3)]     0         \n",
            "_________________________________________________________________\n",
            "block1_conv1 (Conv2D)        (None, 256, 256, 64)      1792      \n",
            "_________________________________________________________________\n",
            "block1_conv2 (Conv2D)        (None, 256, 256, 64)      36928     \n",
            "_________________________________________________________________\n",
            "block1_pool (MaxPooling2D)   (None, 128, 128, 64)      0         \n",
            "_________________________________________________________________\n",
            "block2_conv1 (Conv2D)        (None, 128, 128, 128)     73856     \n",
            "_________________________________________________________________\n",
            "block2_conv2 (Conv2D)        (None, 128, 128, 128)     147584    \n",
            "_________________________________________________________________\n",
            "block2_pool (MaxPooling2D)   (None, 64, 64, 128)       0         \n",
            "_________________________________________________________________\n",
            "block3_conv1 (Conv2D)        (None, 64, 64, 256)       295168    \n",
            "_________________________________________________________________\n",
            "block3_conv2 (Conv2D)        (None, 64, 64, 256)       590080    \n",
            "_________________________________________________________________\n",
            "block3_conv3 (Conv2D)        (None, 64, 64, 256)       590080    \n",
            "_________________________________________________________________\n",
            "block3_pool (MaxPooling2D)   (None, 32, 32, 256)       0         \n",
            "_________________________________________________________________\n",
            "block4_conv1 (Conv2D)        (None, 32, 32, 512)       1180160   \n",
            "_________________________________________________________________\n",
            "block4_conv2 (Conv2D)        (None, 32, 32, 512)       2359808   \n",
            "_________________________________________________________________\n",
            "block4_conv3 (Conv2D)        (None, 32, 32, 512)       2359808   \n",
            "_________________________________________________________________\n",
            "block4_pool (MaxPooling2D)   (None, 16, 16, 512)       0         \n",
            "_________________________________________________________________\n",
            "block5_conv1 (Conv2D)        (None, 16, 16, 512)       2359808   \n",
            "_________________________________________________________________\n",
            "block5_conv2 (Conv2D)        (None, 16, 16, 512)       2359808   \n",
            "_________________________________________________________________\n",
            "block5_conv3 (Conv2D)        (None, 16, 16, 512)       2359808   \n",
            "_________________________________________________________________\n",
            "block5_pool (MaxPooling2D)   (None, 8, 8, 512)         0         \n",
            "_________________________________________________________________\n",
            "global_average_pooling2d_1 ( (None, 512)               0         \n",
            "_________________________________________________________________\n",
            "dense_4 (Dense)              (None, 1024)              525312    \n",
            "_________________________________________________________________\n",
            "dense_5 (Dense)              (None, 1024)              1049600   \n",
            "_________________________________________________________________\n",
            "dense_6 (Dense)              (None, 512)               524800    \n",
            "_________________________________________________________________\n",
            "dropout_1 (Dropout)          (None, 512)               0         \n",
            "_________________________________________________________________\n",
            "dense_7 (Dense)              (None, 2)                 1026      \n",
            "=================================================================\n",
            "Total params: 16,815,426\n",
            "Trainable params: 2,100,738\n",
            "Non-trainable params: 14,714,688\n",
            "_________________________________________________________________\n"
          ],
          "name": "stdout"
        }
      ]
    },
    {
      "cell_type": "code",
      "metadata": {
        "id": "vAGnwG02cxQj",
        "colab": {
          "base_uri": "https://localhost:8080/",
          "height": 54
        },
        "outputId": "f4089d24-efff-45b9-8961-b39797773dc9"
      },
      "source": [
        "train_datagen=ImageDataGenerator(\n",
        "    rescale=1/255,\n",
        "    shear_range = 0.2,\n",
        "    zoom_range = 0.2,\n",
        "    horizontal_flip = True,\n",
        "    width_shift_range=0.1,\n",
        "    height_shift_range=0.1,\n",
        "    vertical_flip=True,\n",
        "    validation_split=0.2)\n",
        "\n",
        "train_generator=train_datagen.flow_from_directory('/content/drive/My Drive/Harvard Medical Dataset2', target_size=(256,256), color_mode='rgb', shuffle=False, subset='training', batch_size=10, class_mode='categorical')\n",
        "val_generator = train_datagen.flow_from_directory('/content/drive/My Drive/Harvard Medical Dataset2', target_size=(256,256), color_mode='rgb', shuffle=False, subset='validation', batch_size=10, class_mode='categorical')\n",
        "\n",
        "model.compile(optimizer='Adam', loss='categorical_crossentropy', metrics=['accuracy'])\n"
      ],
      "execution_count": null,
      "outputs": [
        {
          "output_type": "stream",
          "text": [
            "Found 122 images belonging to 2 classes.\n",
            "Found 30 images belonging to 2 classes.\n"
          ],
          "name": "stdout"
        }
      ]
    },
    {
      "cell_type": "code",
      "metadata": {
        "id": "9b1zytGQfmod",
        "colab": {
          "base_uri": "https://localhost:8080/",
          "height": 72
        },
        "outputId": "9f6951a3-1fdd-4b0a-87d8-1e92f042252c"
      },
      "source": [
        "print(train_generator.n)\n",
        "print(train_generator.batch_size)\n",
        "print(242//32)"
      ],
      "execution_count": null,
      "outputs": [
        {
          "output_type": "stream",
          "text": [
            "122\n",
            "10\n",
            "7\n"
          ],
          "name": "stdout"
        }
      ]
    },
    {
      "cell_type": "code",
      "metadata": {
        "id": "uNJOwPw5AtIi",
        "colab": {
          "base_uri": "https://localhost:8080/",
          "height": 54
        },
        "outputId": "824ac0c9-d0e6-4d2a-88ba-cf38ca4a32ab"
      },
      "source": [
        "print(val_generator.n)\n",
        "print(val_generator.batch_size)"
      ],
      "execution_count": null,
      "outputs": [
        {
          "output_type": "stream",
          "text": [
            "30\n",
            "10\n"
          ],
          "name": "stdout"
        }
      ]
    },
    {
      "cell_type": "code",
      "metadata": {
        "id": "QHsxx6BmscrV",
        "colab": {
          "base_uri": "https://localhost:8080/",
          "height": 1000
        },
        "outputId": "68505904-9bbc-4dc8-89a0-d7d0348ba77f"
      },
      "source": [
        "step_size_train=train_generator.n//train_generator.batch_size\n",
        "history = model.fit_generator(generator=train_generator, steps_per_epoch=step_size_train, epochs=40,  verbose=1, validation_data=val_generator)"
      ],
      "execution_count": null,
      "outputs": [
        {
          "output_type": "stream",
          "text": [
            "Epoch 1/40\n",
            "12/12 [==============================] - 3s 235ms/step - loss: 1.2864 - accuracy: 0.4107 - val_loss: 1.0219 - val_accuracy: 0.4667\n",
            "Epoch 2/40\n",
            "12/12 [==============================] - 2s 186ms/step - loss: 0.8877 - accuracy: 0.4911 - val_loss: 0.7036 - val_accuracy: 0.4667\n",
            "Epoch 3/40\n",
            "12/12 [==============================] - 2s 184ms/step - loss: 0.7561 - accuracy: 0.4911 - val_loss: 0.6764 - val_accuracy: 0.5333\n",
            "Epoch 4/40\n",
            "12/12 [==============================] - 2s 186ms/step - loss: 0.7139 - accuracy: 0.4554 - val_loss: 0.6704 - val_accuracy: 0.8333\n",
            "Epoch 5/40\n",
            "12/12 [==============================] - 2s 183ms/step - loss: 0.6773 - accuracy: 0.5536 - val_loss: 0.6199 - val_accuracy: 0.8667\n",
            "Epoch 6/40\n",
            "12/12 [==============================] - 2s 189ms/step - loss: 0.6266 - accuracy: 0.7857 - val_loss: 0.5332 - val_accuracy: 0.8333\n",
            "Epoch 7/40\n",
            "12/12 [==============================] - 2s 188ms/step - loss: 0.6469 - accuracy: 0.6161 - val_loss: 0.9650 - val_accuracy: 0.4667\n",
            "Epoch 8/40\n",
            "12/12 [==============================] - 2s 185ms/step - loss: 0.7986 - accuracy: 0.5714 - val_loss: 0.5794 - val_accuracy: 0.8333\n",
            "Epoch 9/40\n",
            "12/12 [==============================] - 2s 193ms/step - loss: 0.4919 - accuracy: 0.8393 - val_loss: 0.3648 - val_accuracy: 0.8667\n",
            "Epoch 10/40\n",
            "12/12 [==============================] - 2s 186ms/step - loss: 0.4891 - accuracy: 0.7500 - val_loss: 0.8431 - val_accuracy: 0.5333\n",
            "Epoch 11/40\n",
            "12/12 [==============================] - 2s 185ms/step - loss: 0.4615 - accuracy: 0.7857 - val_loss: 0.3436 - val_accuracy: 0.9000\n",
            "Epoch 12/40\n",
            "12/12 [==============================] - 2s 187ms/step - loss: 0.3020 - accuracy: 0.8929 - val_loss: 1.2713 - val_accuracy: 0.5333\n",
            "Epoch 13/40\n",
            "12/12 [==============================] - 2s 179ms/step - loss: 0.2932 - accuracy: 0.8839 - val_loss: 0.0658 - val_accuracy: 1.0000\n",
            "Epoch 14/40\n",
            "12/12 [==============================] - 2s 182ms/step - loss: 0.4837 - accuracy: 0.8393 - val_loss: 0.4422 - val_accuracy: 0.8000\n",
            "Epoch 15/40\n",
            "12/12 [==============================] - 2s 186ms/step - loss: 0.2759 - accuracy: 0.9018 - val_loss: 0.1476 - val_accuracy: 1.0000\n",
            "Epoch 16/40\n",
            "12/12 [==============================] - 2s 187ms/step - loss: 0.1515 - accuracy: 0.9643 - val_loss: 0.1060 - val_accuracy: 0.9333\n",
            "Epoch 17/40\n",
            "12/12 [==============================] - 2s 189ms/step - loss: 0.0988 - accuracy: 0.9554 - val_loss: 0.0302 - val_accuracy: 1.0000\n",
            "Epoch 18/40\n",
            "12/12 [==============================] - 2s 187ms/step - loss: 0.1556 - accuracy: 0.9196 - val_loss: 0.0210 - val_accuracy: 1.0000\n",
            "Epoch 19/40\n",
            "12/12 [==============================] - 2s 187ms/step - loss: 0.1346 - accuracy: 0.9417 - val_loss: 1.0200 - val_accuracy: 0.7000\n",
            "Epoch 20/40\n",
            "12/12 [==============================] - 2s 183ms/step - loss: 0.2356 - accuracy: 0.9286 - val_loss: 0.4781 - val_accuracy: 0.8000\n",
            "Epoch 21/40\n",
            "12/12 [==============================] - 2s 182ms/step - loss: 0.5051 - accuracy: 0.8214 - val_loss: 0.3055 - val_accuracy: 0.8333\n",
            "Epoch 22/40\n",
            "12/12 [==============================] - 2s 182ms/step - loss: 0.2035 - accuracy: 0.9643 - val_loss: 0.1356 - val_accuracy: 0.9667\n",
            "Epoch 23/40\n",
            "12/12 [==============================] - 2s 185ms/step - loss: 0.0632 - accuracy: 1.0000 - val_loss: 0.1749 - val_accuracy: 0.9667\n",
            "Epoch 24/40\n",
            "12/12 [==============================] - 2s 183ms/step - loss: 0.0278 - accuracy: 0.9821 - val_loss: 0.9682 - val_accuracy: 0.7667\n",
            "Epoch 25/40\n",
            "12/12 [==============================] - 2s 181ms/step - loss: 0.0640 - accuracy: 0.9821 - val_loss: 0.3079 - val_accuracy: 0.9000\n",
            "Epoch 26/40\n",
            "12/12 [==============================] - 2s 196ms/step - loss: 0.7033 - accuracy: 0.7768 - val_loss: 0.7838 - val_accuracy: 0.5667\n",
            "Epoch 27/40\n",
            "12/12 [==============================] - 2s 180ms/step - loss: 0.3192 - accuracy: 0.8393 - val_loss: 0.2368 - val_accuracy: 0.9000\n",
            "Epoch 28/40\n",
            "12/12 [==============================] - 2s 183ms/step - loss: 0.2683 - accuracy: 0.9286 - val_loss: 0.1873 - val_accuracy: 0.9333\n",
            "Epoch 29/40\n",
            "12/12 [==============================] - 2s 185ms/step - loss: 0.0987 - accuracy: 0.9643 - val_loss: 0.3953 - val_accuracy: 0.8667\n",
            "Epoch 30/40\n",
            "12/12 [==============================] - 2s 190ms/step - loss: 0.0797 - accuracy: 0.9667 - val_loss: 0.0823 - val_accuracy: 0.9667\n",
            "Epoch 31/40\n",
            "12/12 [==============================] - 2s 180ms/step - loss: 0.0577 - accuracy: 0.9821 - val_loss: 0.1328 - val_accuracy: 0.9667\n",
            "Epoch 32/40\n",
            "12/12 [==============================] - 2s 187ms/step - loss: 0.0439 - accuracy: 0.9732 - val_loss: 0.4346 - val_accuracy: 0.8333\n",
            "Epoch 33/40\n",
            "12/12 [==============================] - 2s 180ms/step - loss: 0.0753 - accuracy: 0.9554 - val_loss: 0.1024 - val_accuracy: 0.9333\n",
            "Epoch 34/40\n",
            "12/12 [==============================] - 2s 180ms/step - loss: 0.0089 - accuracy: 1.0000 - val_loss: 0.2264 - val_accuracy: 0.9000\n",
            "Epoch 35/40\n",
            "12/12 [==============================] - 2s 183ms/step - loss: 0.0278 - accuracy: 1.0000 - val_loss: 0.0281 - val_accuracy: 1.0000\n",
            "Epoch 36/40\n",
            "12/12 [==============================] - 2s 180ms/step - loss: 0.0074 - accuracy: 1.0000 - val_loss: 0.1347 - val_accuracy: 0.9000\n",
            "Epoch 37/40\n",
            "12/12 [==============================] - 2s 180ms/step - loss: 0.0094 - accuracy: 1.0000 - val_loss: 0.1068 - val_accuracy: 0.9667\n",
            "Epoch 38/40\n",
            "12/12 [==============================] - 2s 181ms/step - loss: 0.0432 - accuracy: 0.9911 - val_loss: 0.0013 - val_accuracy: 1.0000\n",
            "Epoch 39/40\n",
            "12/12 [==============================] - 2s 183ms/step - loss: 0.0174 - accuracy: 0.9911 - val_loss: 0.1074 - val_accuracy: 0.9667\n",
            "Epoch 40/40\n",
            "12/12 [==============================] - 2s 183ms/step - loss: 0.0475 - accuracy: 0.9911 - val_loss: 0.0369 - val_accuracy: 1.0000\n"
          ],
          "name": "stdout"
        }
      ]
    },
    {
      "cell_type": "code",
      "metadata": {
        "id": "xDqJAbGKs5rZ"
      },
      "source": [
        "import matplotlib.pyplot as plt\n",
        "f, (ax1, ax2) = plt.subplots(1, 2, figsize=(12, 4))\n",
        "t = f.suptitle('Basic CNN-PreTrained Model Performance', fontsize=12)\n",
        "f.subplots_adjust(top=0.85, wspace=0.3)\n",
        "\n",
        "epoch_list = list(range(0,40))\n",
        "ax1.plot(epoch_list, history.history['accuracy'], label='Train Accuracy')\n",
        "ax1.plot(epoch_list, history.history['val_accuracy'], label='Validation Accuracy')\n",
        "ax1.set_xticks(np.arange(0, 40, 2))\n",
        "ax1.set_ylabel('Accuracy Value')\n",
        "ax1.set_xlabel('Epoch')\n",
        "ax1.set_title('Accuracy')\n",
        "l1 = ax1.legend(loc=\"best\")\n",
        "\n",
        "ax2.plot(epoch_list, history.history['loss'], label='Train Loss')\n",
        "ax2.plot(epoch_list, history.history['val_loss'], label='Validation Loss')\n",
        "ax2.set_xticks(np.arange(0, 40, 2))\n",
        "ax2.set_ylabel('Loss Value')\n",
        "ax2.set_xlabel('Epoch')\n",
        "ax2.set_title('Loss')\n",
        "l2 = ax2.legend(loc=\"best\")"
      ],
      "execution_count": null,
      "outputs": []
    },
    {
      "cell_type": "code",
      "metadata": {
        "id": "yyi5jE2ftuGZ"
      },
      "source": [
        "from sklearn.metrics import classification_report, confusion_matrix\n",
        "import seaborn as sns"
      ],
      "execution_count": null,
      "outputs": []
    },
    {
      "cell_type": "code",
      "metadata": {
        "id": "PzJVlLNdALgU",
        "colab": {
          "base_uri": "https://localhost:8080/",
          "height": 55
        },
        "outputId": "2f69fabe-60c6-4771-8bfa-497d0c5e5b99"
      },
      "source": [
        "#Confution Matrix and Classification Report\n",
        "Y_pred = model.predict_generator(val_generator, val_generator.n // val_generator.batch_size+1)\n",
        "y_pred = np.argmax(Y_pred, axis=1)\n"
      ],
      "execution_count": null,
      "outputs": [
        {
          "output_type": "stream",
          "text": [
            "WARNING:tensorflow:Your input ran out of data; interrupting training. Make sure that your dataset or generator can generate at least `steps_per_epoch * epochs` batches (in this case, 4 batches). You may need to use the repeat() function when building your dataset.\n"
          ],
          "name": "stdout"
        }
      ]
    },
    {
      "cell_type": "code",
      "metadata": {
        "id": "DCtyQILEBWLD",
        "colab": {
          "base_uri": "https://localhost:8080/",
          "height": 35
        },
        "outputId": "a1771e2a-c643-4031-8507-8c417a4a1f8a"
      },
      "source": [
        "print(val_generator.classes)\n"
      ],
      "execution_count": null,
      "outputs": [
        {
          "output_type": "stream",
          "text": [
            "[0 0 0 0 0 0 0 0 0 0 0 0 0 0 0 0 1 1 1 1 1 1 1 1 1 1 1 1 1 1]\n"
          ],
          "name": "stdout"
        }
      ]
    },
    {
      "cell_type": "code",
      "metadata": {
        "id": "LCYj9KcWBMlh",
        "colab": {
          "base_uri": "https://localhost:8080/",
          "height": 72
        },
        "outputId": "9a7a797e-4b87-4f6b-d9d1-0a26aba1e03b"
      },
      "source": [
        "print('Confusion Matrix')\n",
        "print(confusion_matrix(val_generator.classes, y_pred))"
      ],
      "execution_count": null,
      "outputs": [
        {
          "output_type": "stream",
          "text": [
            "Confusion Matrix\n",
            "[[16  0]\n",
            " [ 0 14]]\n"
          ],
          "name": "stdout"
        }
      ]
    },
    {
      "cell_type": "code",
      "metadata": {
        "id": "YGEV4kaq_ykU",
        "colab": {
          "base_uri": "https://localhost:8080/",
          "height": 199
        },
        "outputId": "f7d7a6dc-488d-418e-b91f-f63c404fbf8d"
      },
      "source": [
        "print('Classification Report')\n",
        "target_names = ['Abnormal', 'Normal']\n",
        "print(classification_report(val_generator.classes, y_pred, target_names=target_names))"
      ],
      "execution_count": null,
      "outputs": [
        {
          "output_type": "stream",
          "text": [
            "Classification Report\n",
            "              precision    recall  f1-score   support\n",
            "\n",
            "    Abnormal       1.00      1.00      1.00        16\n",
            "      Normal       1.00      1.00      1.00        14\n",
            "\n",
            "    accuracy                           1.00        30\n",
            "   macro avg       1.00      1.00      1.00        30\n",
            "weighted avg       1.00      1.00      1.00        30\n",
            "\n"
          ],
          "name": "stdout"
        }
      ]
    },
    {
      "cell_type": "code",
      "metadata": {
        "id": "XlMKFoDgBsZ5",
        "colab": {
          "base_uri": "https://localhost:8080/",
          "height": 297
        },
        "outputId": "8f5c2dee-d044-44b0-99b0-eb5b33db61d3"
      },
      "source": [
        "import seaborn as sns\n",
        "cm=confusion_matrix(val_generator.classes, y_pred)\n",
        "sns.heatmap(cm, square=True, annot=True, cbar=False, cmap=plt.cm.Blues)\n",
        "plt.xlabel('Predicted Values')\n",
        "plt.ylabel('True Values')"
      ],
      "execution_count": null,
      "outputs": [
        {
          "output_type": "execute_result",
          "data": {
            "text/plain": [
              "Text(91.68, 0.5, 'True Values')"
            ]
          },
          "metadata": {
            "tags": []
          },
          "execution_count": 42
        },
        {
          "output_type": "display_data",
          "data": {
            "image/png": "[encoded data removed]",
            "text/plain": [
              "<Figure size 432x288 with 1 Axes>"
            ]
          },
          "metadata": {
            "tags": [],
            "needs_background": "light"
          }
        }
      ]
    },
    {
      "cell_type": "code",
      "metadata": {
        "id": "SMwM2M2lCNN6",
        "colab": {
          "base_uri": "https://localhost:8080/",
          "height": 313
        },
        "outputId": "5cf205e5-4c76-4d97-abcb-9c680ee5d8aa"
      },
      "source": [
        "import seaborn as sns\n",
        "import matplotlib.pyplot as plt     \n",
        "\n",
        "ax= plt.subplot()\n",
        "sns.heatmap(cm, annot=True, ax = ax); #annot=True to annotate cells\n",
        "\n",
        "# labels, title and ticks\n",
        "ax.set_xlabel('Predicted labels');ax.set_ylabel('True labels'); \n",
        "ax.set_title('Confusion Matrix'); \n",
        "ax.xaxis.set_ticklabels(['Abnormal', 'Normal']); ax.yaxis.set_ticklabels(['Abnormal', 'Normal'])"
      ],
      "execution_count": null,
      "outputs": [
        {
          "output_type": "execute_result",
          "data": {
            "text/plain": [
              "[Text(0, 0.5, 'Abnormal'), Text(0, 1.5, 'Normal')]"
            ]
          },
          "metadata": {
            "tags": []
          },
          "execution_count": 43
        },
        {
          "output_type": "display_data",
          "data": {
            "image/png": "[encoded data removed]",
            "text/plain": [
              "<Figure size 432x288 with 2 Axes>"
            ]
          },
          "metadata": {
            "tags": [],
            "needs_background": "light"
          }
        }
      ]
    },
    {
      "cell_type": "code",
      "metadata": {
        "id": "YqdOt1ylCc1e",
        "colab": {
          "base_uri": "https://localhost:8080/",
          "height": 537
        },
        "outputId": "14affaf6-c4a6-4f98-c610-64ac5b9ae246"
      },
      "source": [
        "from sklearn.metrics import accuracy_score\n",
        "results = confusion_matrix(val_generator.classes,y_pred) \n",
        "print('Confusion Matrix :')\n",
        "print(results) \n",
        "print('Accuracy Score :',accuracy_score(val_generator.classes,y_pred)) \n",
        "print('Report : ')\n",
        "print(classification_report(val_generator.classes,y_pred))\n",
        "\n",
        "sns.heatmap(results/np.sum(results), annot=True, \n",
        "            fmt='.2%', cmap='Blues')"
      ],
      "execution_count": null,
      "outputs": [
        {
          "output_type": "stream",
          "text": [
            "Confusion Matrix :\n",
            "[[16  0]\n",
            " [ 0 14]]\n",
            "Accuracy Score : 1.0\n",
            "Report : \n",
            "              precision    recall  f1-score   support\n",
            "\n",
            "           0       1.00      1.00      1.00        16\n",
            "           1       1.00      1.00      1.00        14\n",
            "\n",
            "    accuracy                           1.00        30\n",
            "   macro avg       1.00      1.00      1.00        30\n",
            "weighted avg       1.00      1.00      1.00        30\n",
            "\n"
          ],
          "name": "stdout"
        },
        {
          "output_type": "execute_result",
          "data": {
            "text/plain": [
              "<matplotlib.axes._subplots.AxesSubplot at 0x7f28831cfcf8>"
            ]
          },
          "metadata": {
            "tags": []
          },
          "execution_count": 44
        },
        {
          "output_type": "display_data",
          "data": {
            "image/png": "[encoded data removed]",
            "text/plain": [
              "<Figure size 432x288 with 2 Axes>"
            ]
          },
          "metadata": {
            "tags": [],
            "needs_background": "light"
          }
        }
      ]
    },
    {
      "cell_type": "code",
      "metadata": {
        "id": "5EHkvUDbCx23",
        "colab": {
          "base_uri": "https://localhost:8080/",
          "height": 35
        },
        "outputId": "86c34f9e-127c-4c92-f6fe-b4bd83a19d40"
      },
      "source": [
        "import numpy as np\n",
        "from sklearn import metrics\n",
        "fpr, tpr, thresholds = metrics.roc_curve(val_generator.classes, y_pred, pos_label=1)\n",
        "metrics.auc(fpr, tpr)"
      ],
      "execution_count": null,
      "outputs": [
        {
          "output_type": "execute_result",
          "data": {
            "text/plain": [
              "1.0"
            ]
          },
          "metadata": {
            "tags": []
          },
          "execution_count": 45
        }
      ]
    },
    {
      "cell_type": "code",
      "metadata": {
        "id": "SfrDZV-QDAPw",
        "colab": {
          "base_uri": "https://localhost:8080/",
          "height": 354
        },
        "outputId": "779bfb54-0944-4679-af7c-1ad8bd49bd77"
      },
      "source": [
        "fig, ax = plt.subplots(figsize=(8,5))\n",
        "ax.plot(fpr, tpr)\n",
        "ax.plot(np.linspace(0, 1, 100),\n",
        "         np.linspace(0, 1, 100),\n",
        "         label='baseline',\n",
        "         linestyle='--')\n",
        "plt.title('Receiver Operating Characteristic Curve', fontsize=14)\n",
        "plt.ylabel('Total Positive Rate', fontsize=12)\n",
        "plt.xlabel('False Positive Rate', fontsize=12)\n",
        "plt.legend(fontsize=12);"
      ],
      "execution_count": null,
      "outputs": [
        {
          "output_type": "display_data",
          "data": {
            "image/png": "[encoded data removed]",
            "text/plain": [
              "<Figure size 576x360 with 1 Axes>"
            ]
          },
          "metadata": {
            "tags": [],
            "needs_background": "light"
          }
        }
      ]
    },
    {
      "cell_type": "code",
      "metadata": {
        "id": "PnoIavCYDKQN"
      },
      "source": [
        "model.save('/content/drive/My Drive/Harvard Medical Dataset2/my_VGG16finalmodel.h5')"
      ],
      "execution_count": null,
      "outputs": []
    },
    {
      "cell_type": "code",
      "metadata": {
        "id": "WfpI6fPhDgFU"
      },
      "source": [
        "model.save_weights('/content/drive/My Drive/Harvard Medical Dataset2/my_VGG16finalweight')"
      ],
      "execution_count": null,
      "outputs": []
    },
    {
      "cell_type": "code",
      "metadata": {
        "id": "bzFFbFFwDu2J"
      },
      "source": [
        ""
      ],
      "execution_count": null,
      "outputs": []
    }
  ]
}